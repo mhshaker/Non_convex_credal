{
 "metadata": {
  "language_info": {
   "codemirror_mode": {
    "name": "ipython",
    "version": 3
   },
   "file_extension": ".py",
   "mimetype": "text/x-python",
   "name": "python",
   "nbconvert_exporter": "python",
   "pygments_lexer": "ipython3",
   "version": "3.8.0"
  },
  "orig_nbformat": 2,
  "kernelspec": {
   "name": "python380jvsc74a57bd03ab4bdf895871cee8e68d05d7e0ba5a0f7020120ec7f1a543ab1ed373c57f99e",
   "display_name": "Python 3.8.0 64-bit ('Non_convex_credal-VVstQ0Zj': venv)",
   "language": "python"
  }
 },
 "nbformat": 4,
 "nbformat_minor": 2,
 "cells": [
  {
   "cell_type": "code",
   "execution_count": 1,
   "metadata": {},
   "outputs": [
    {
     "output_type": "stream",
     "name": "stdout",
     "text": [
      "LLWGH   t [1.07095059] e [0.1] a [0.97095059]\nLLWGH   t [0.6] e [0.6] a [0.]\nLLWGH   t [1.] e [1.] a [0.]\n"
     ]
    }
   ],
   "source": [
    "import numpy as np\n",
    "import UncertaintyM as unc\n",
    "prob1 = np.array([[[0.5,0.5],[0.6,0.4]]])\n",
    "prob2 = np.array([[[0.5,0.5],[0.6,0.4], [0,1]]])\n",
    "prob_s = np.array([[[0.5,0.5], [1,0], [0,1]]])\n",
    "\n",
    "t, e, a = unc.uncertainty_set16(prob1)\n",
    "print(f\"LLWGH   t {t} e {e} a {a}\")\n",
    "t, e, a = unc.uncertainty_set16(prob2)\n",
    "print(f\"LLWGH   t {t} e {e} a {a}\")\n",
    "t, e, a = unc.uncertainty_set16(prob_s)\n",
    "print(f\"LLWGH   t {t} e {e} a {a}\")\n"
   ]
  },
  {
   "cell_type": "code",
   "execution_count": 2,
   "metadata": {},
   "outputs": [
    {
     "output_type": "stream",
     "name": "stdout",
     "text": [
      "set14   t [1.] e [0.] a [1.]\nset14   t [0.] e [0.] a [0.]\nset14   t [0.5] e [0.5] a [0.]\n"
     ]
    }
   ],
   "source": [
    "prob1 = np.array([[[0.5,0.5]]])\n",
    "prob2 = np.array([[[0,1]]])\n",
    "prob_s = np.array([[[0.5,0.5], [0,1]]])\n",
    "\n",
    "t, e, a = unc.uncertainty_set16(prob1)\n",
    "print(f\"set14   t {t} e {e} a {a}\")\n",
    "t, e, a = unc.uncertainty_set16(prob2)\n",
    "print(f\"set14   t {t} e {e} a {a}\")\n",
    "t, e, a = unc.uncertainty_set16(prob_s)\n",
    "print(f\"set14   t {t} e {e} a {a}\")\n"
   ]
  },
  {
   "cell_type": "code",
   "execution_count": 3,
   "metadata": {
    "tags": []
   },
   "outputs": [
    {
     "output_type": "stream",
     "name": "stdout",
     "text": [
      "done\n"
     ]
    }
   ],
   "source": [
    "# additivity test for set 16\n",
    "import random\n",
    "\n",
    "for i in range(10):\n",
    "    rp = random.uniform(0, 1)\n",
    "    rp2 = random.uniform(0, 1)\n",
    "    rp3 = random.uniform(0, 1)\n",
    "    rp4 = random.uniform(0, 1)\n",
    "    rp5 = random.uniform(0, 1)\n",
    "    rp6 = random.uniform(0, 1)\n",
    "    rp7 = random.uniform(0, 1)\n",
    "    rp8 = random.uniform(0, 1)\n",
    "    rp9 = random.uniform(0, 1)\n",
    "    prob1 = np.array([[[rp, 1-rp], [rp2, 1-rp2], [rp3, 1-rp3], [rp4, 1-rp4], [rp5, 1-rp5]]])\n",
    "    prob2 = np.array([[[rp6, 1-rp6], [rp7, 1-rp7], [rp8, 1-rp8], [rp9, 1-rp9], [rp5, 1-rp5]]])\n",
    "    prob3 = np.array([[[rp, 1-rp], [rp2, 1-rp2], [rp3, 1-rp3], [rp4, 1-rp4], [rp5, 1-rp5], [rp6, 1-rp6], [rp7, 1-rp7], [rp8, 1-rp8], [rp9, 1-rp9]]])\n",
    "    \n",
    "    t1, e, a = unc.uncertainty_set16(prob1)\n",
    "    t2, e, a = unc.uncertainty_set16(prob2)\n",
    "    t3, e, a = unc.uncertainty_set16(prob2)\n",
    "\n",
    "    if t1 + t2 < t3:\n",
    "        print(prob3)\n",
    "        print(\"test failed\")\n",
    "print(\"done\")"
   ]
  },
  {
   "cell_type": "code",
   "execution_count": 4,
   "metadata": {
    "tags": []
   },
   "outputs": [
    {
     "output_type": "stream",
     "name": "stdout",
     "text": [
      "done\n"
     ]
    }
   ],
   "source": [
    "# Monotonicity test for set 16\n",
    "import random\n",
    "\n",
    "for j in range(100):\n",
    "    last_t = 0\n",
    "    rp = random.uniform(0, 1)\n",
    "    rp2 = random.uniform(0, 1)\n",
    "    prob = np.array([[[rp, 1-rp], [rp2, 1-rp2]]])\n",
    "\n",
    "    for i in range(50):\n",
    "\n",
    "        rp = random.uniform(0, 1)\n",
    "        prob_add = np.array([[[rp, 1-rp]]])\n",
    "        prob = np.concatenate((prob,prob_add), axis=1)\n",
    "        t, e, a = unc.uncertainty_set17(prob)\n",
    "        if t < last_t:\n",
    "            # print(prob)\n",
    "            print(f\"Monotonicity test failed {j} last_t {last_t} t {t}\")\n",
    "            break\n",
    "        else:\n",
    "            last_t = t\n",
    "print(\"done\")"
   ]
  },
  {
   "cell_type": "code",
   "execution_count": null,
   "metadata": {},
   "outputs": [],
   "source": []
  }
 ]
}