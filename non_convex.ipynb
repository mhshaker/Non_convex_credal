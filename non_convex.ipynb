{
 "metadata": {
  "language_info": {
   "codemirror_mode": {
    "name": "ipython",
    "version": 3
   },
   "file_extension": ".py",
   "mimetype": "text/x-python",
   "name": "python",
   "nbconvert_exporter": "python",
   "pygments_lexer": "ipython3",
   "version": "3.8.0"
  },
  "orig_nbformat": 2,
  "kernelspec": {
   "name": "python380jvsc74a57bd03ab4bdf895871cee8e68d05d7e0ba5a0f7020120ec7f1a543ab1ed373c57f99e",
   "display_name": "Python 3.8.0 64-bit ('Non_convex_credal': pipenv)",
   "language": "python"
  },
  "metadata": {
   "interpreter": {
    "hash": "31f2aee4e71d21fbe5cf8b01ff0e069b9275f58929596ceb00d14d90e3e16cd6"
   }
  }
 },
 "nbformat": 4,
 "nbformat_minor": 2,
 "cells": [
  {
   "cell_type": "code",
   "execution_count": 1,
   "metadata": {},
   "outputs": [
    {
     "output_type": "stream",
     "name": "stdout",
     "text": [
      "prob [0.99 0.01]    t [0.08079314] e [0.98] a [-0.89920686]\nprob [0.98 0.02]    t [0.14144054] e [0.96] a [-0.81855946]\nprob [0.97 0.03]    t [0.19439186] e [0.94] a [-0.74560814]\nprob [0.96 0.04]    t [0.24229219] e [0.92] a [-0.67770781]\nprob [0.95 0.05]    t [0.28639696] e [0.9] a [-0.61360304]\nprob [0.94 0.06]    t [0.32744492] e [0.88] a [-0.55255508]\nprob [0.93 0.07]    t [0.36592365] e [0.86] a [-0.49407635]\nprob [0.92 0.08]    t [0.40217919] e [0.84] a [-0.43782081]\nprob [0.91 0.09]    t [0.43646982] e [0.82] a [-0.38353018]\nprob [0.9 0.1]    t [0.46899559] e [0.8] a [-0.33100441]\nprob [0.89 0.11]    t [0.49991596] e [0.78] a [-0.28008404]\nprob [0.88 0.12]    t [0.52936087] e [0.76] a [-0.23063913]\nprob [0.87 0.13]    t [0.55743819] e [0.74] a [-0.18256181]\nprob [0.86 0.14]    t [0.58423881] e [0.72] a [-0.13576119]\nprob [0.85 0.15]    t [0.6098403] e [0.7] a [-0.0901597]\nprob [0.84 0.16]    t [0.63430955] e [0.68] a [-0.04569045]\nprob [0.83 0.17]    t [0.65770478] e [0.66] a [-0.00229522]\n"
     ]
    }
   ],
   "source": [
    "# make synthetic prob dist to show the negetive aleatoric problem of set14 in extreme prob values\n",
    "import numpy as np\n",
    "import UncertaintyM as unc\n",
    "\n",
    "precision = 100\n",
    "for i in range(1,int(precision/2)):\n",
    "    value = (precision-i)/precision\n",
    "    prob = np.array([[[value,1-value], [1-value,value]]])\n",
    "    # print(prob)\n",
    "    t, e, a = unc.uncertainty_set14(prob)\n",
    "    if a < 0:\n",
    "        print(f\"prob {prob[0][0]}    t {t} e {e} a {a}\")\n"
   ]
  },
  {
   "cell_type": "code",
   "execution_count": 2,
   "metadata": {},
   "outputs": [
    {
     "output_type": "stream",
     "name": "stdout",
     "text": [
      "ent t [1.] e [1.] a [0.]\nset14 t [0.] e [1.] a [-1.]\n"
     ]
    }
   ],
   "source": [
    "prob = np.array([[[1,0], [0,1]]])\n",
    "\n",
    "t, e, a = unc.uncertainty_ent(prob)\n",
    "print(f\"ent t {t} e {e} a {a}\")\n",
    "\n",
    "t, e, a = unc.uncertainty_set14(prob)\n",
    "print(f\"set14 t {t} e {e} a {a}\")\n",
    "\n"
   ]
  },
  {
   "cell_type": "code",
   "execution_count": null,
   "metadata": {},
   "outputs": [],
   "source": []
  }
 ]
}